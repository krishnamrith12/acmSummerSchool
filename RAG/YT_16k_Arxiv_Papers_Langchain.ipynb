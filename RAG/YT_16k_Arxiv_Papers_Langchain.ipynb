{
  "cells": [
    {
      "cell_type": "code",
      "execution_count": 1,
      "metadata": {
        "colab": {
          "base_uri": "https://localhost:8080/"
        },
        "id": "RRYSu48huSUW",
        "outputId": "433565f1-26f8-4e41-e575-1c430e00b0a0"
      },
      "outputs": [
        {
          "name": "stdout",
          "output_type": "stream",
          "text": [
            "Note: you may need to restart the kernel to use updated packages.\n",
            "Requirement already satisfied: arxiv in /Users/krishnamrith12/opt/anaconda3/envs/hfHoster/lib/python3.11/site-packages (2.1.3)\n",
            "Requirement already satisfied: PyPDF2 in /Users/krishnamrith12/opt/anaconda3/envs/hfHoster/lib/python3.11/site-packages (3.0.1)\n",
            "Requirement already satisfied: feedparser~=6.0.10 in /Users/krishnamrith12/opt/anaconda3/envs/hfHoster/lib/python3.11/site-packages (from arxiv) (6.0.11)\n",
            "Requirement already satisfied: requests~=2.32.0 in /Users/krishnamrith12/opt/anaconda3/envs/hfHoster/lib/python3.11/site-packages (from arxiv) (2.32.2)\n",
            "Requirement already satisfied: sgmllib3k in /Users/krishnamrith12/opt/anaconda3/envs/hfHoster/lib/python3.11/site-packages (from feedparser~=6.0.10->arxiv) (1.0.0)\n",
            "Requirement already satisfied: charset-normalizer<4,>=2 in /Users/krishnamrith12/opt/anaconda3/envs/hfHoster/lib/python3.11/site-packages (from requests~=2.32.0->arxiv) (3.3.2)\n",
            "Requirement already satisfied: idna<4,>=2.5 in /Users/krishnamrith12/opt/anaconda3/envs/hfHoster/lib/python3.11/site-packages (from requests~=2.32.0->arxiv) (3.7)\n",
            "Requirement already satisfied: urllib3<3,>=1.21.1 in /Users/krishnamrith12/opt/anaconda3/envs/hfHoster/lib/python3.11/site-packages (from requests~=2.32.0->arxiv) (2.2.1)\n",
            "Requirement already satisfied: certifi>=2017.4.17 in /Users/krishnamrith12/opt/anaconda3/envs/hfHoster/lib/python3.11/site-packages (from requests~=2.32.0->arxiv) (2024.2.2)\n",
            "Note: you may need to restart the kernel to use updated packages.\n"
          ]
        }
      ],
      "source": [
        "%pip -q install langchain openai tiktoken\n",
        "%pip install arxiv PyPDF2"
      ]
    },
    {
      "cell_type": "code",
      "execution_count": 2,
      "metadata": {
        "colab": {
          "base_uri": "https://localhost:8080/"
        },
        "id": "J-KFB7J_u_3L",
        "outputId": "3d68d054-c222-427c-8640-8012fb646336"
      },
      "outputs": [
        {
          "name": "stdout",
          "output_type": "stream",
          "text": [
            "Name: langchain\n",
            "Version: 0.2.1\n",
            "Summary: Building applications with LLMs through composability\n",
            "Home-page: https://github.com/langchain-ai/langchain\n",
            "Author: \n",
            "Author-email: \n",
            "License: MIT\n",
            "Location: /Users/krishnamrith12/opt/anaconda3/envs/hfHoster/lib/python3.11/site-packages\n",
            "Requires: aiohttp, langchain-core, langchain-text-splitters, langsmith, numpy, pydantic, PyYAML, requests, SQLAlchemy, tenacity\n",
            "Required-by: langchain-community\n"
          ]
        }
      ],
      "source": [
        "!pip show langchain"
      ]
    },
    {
      "cell_type": "markdown",
      "metadata": {
        "id": "HqwsGJDhvAQ5"
      },
      "source": [
        "# Arxiv Paper Summarizer\n",
        "\n",
        "1. download the paper as pdf or latext\n",
        "2. reads it in in one shot\n",
        "3. makes a summary\n"
      ]
    },
    {
      "cell_type": "markdown",
      "metadata": {
        "id": "e61k19JNPwDg"
      },
      "source": [
        "### If getting a 403 error you will need to manually download the PDF"
      ]
    },
    {
      "cell_type": "code",
      "execution_count": 2,
      "metadata": {
        "id": "IVMk9b4MFSAP"
      },
      "outputs": [],
      "source": [
        "THE_PAPER = \"https://arxiv.org/abs/2305.10601\" #\"https://arxiv.org/abs/2305.16291\" #"
      ]
    },
    {
      "cell_type": "code",
      "execution_count": 3,
      "metadata": {
        "colab": {
          "base_uri": "https://localhost:8080/"
        },
        "id": "N0trHRHjFy-S",
        "outputId": "a8775bf8-2154-47ca-b28d-bc56ac9c89ec"
      },
      "outputs": [],
      "source": [
        "import os\n",
        "import requests\n",
        "\n",
        "def download_arxiv_pdf(arxiv_url, directory=\"papers\"):\n",
        "    # extract paper id from URL\n",
        "    paper_id = arxiv_url.split('/')[-1]\n",
        "    pdf_url = f\"https://arxiv.org/pdf/{paper_id}.pdf\"\n",
        "\n",
        "    # make directory if it doesn't exist\n",
        "    if not os.path.exists(directory):\n",
        "        os.makedirs(directory)\n",
        "\n",
        "    response = requests.get(pdf_url)\n",
        "\n",
        "    # ensure the request was successful\n",
        "    if response.status_code == 200:\n",
        "        pdf_path = f\"{directory}/{paper_id}.pdf\"\n",
        "        with open(f\"{directory}/{paper_id}.pdf\", 'wb') as f:\n",
        "            f.write(response.content)\n",
        "        return pdf_path\n",
        "    else:\n",
        "        print(f\"Error: Unable to download the paper. Status code {response.status_code}\")\n",
        "\n",
        "\n",
        "# Example usage\n",
        "PAPER_PATH = download_arxiv_pdf(THE_PAPER)\n"
      ]
    },
    {
      "cell_type": "code",
      "execution_count": 4,
      "metadata": {
        "id": "WmAuTPfwQCLe"
      },
      "outputs": [],
      "source": [
        "PAPER_PATH= \"papers/2305.10601.pdf\""
      ]
    },
    {
      "cell_type": "markdown",
      "metadata": {
        "id": "4RacPGvAK0GR"
      },
      "source": [
        "## PDF Text Extraction"
      ]
    },
    {
      "cell_type": "code",
      "execution_count": 5,
      "metadata": {
        "id": "CZ_tMCkYIhO1"
      },
      "outputs": [],
      "source": [
        "from PyPDF2 import PdfReader\n",
        "import tiktoken\n",
        "\n",
        "reader = PdfReader(PAPER_PATH)"
      ]
    },
    {
      "cell_type": "code",
      "execution_count": 6,
      "metadata": {
        "colab": {
          "base_uri": "https://localhost:8080/"
        },
        "id": "xCqijfhlMbMC",
        "outputId": "84fc86ee-cd42-48f9-dbdd-e4da82a6cb8f"
      },
      "outputs": [
        {
          "name": "stdout",
          "output_type": "stream",
          "text": [
            "Number of pages: 14\n"
          ]
        }
      ],
      "source": [
        "print(f\"Number of pages: {len(reader.pages)}\")"
      ]
    },
    {
      "cell_type": "code",
      "execution_count": 7,
      "metadata": {
        "colab": {
          "base_uri": "https://localhost:8080/"
        },
        "id": "8stz0O2tMlw9",
        "outputId": "6f920e1f-7214-4878-f752-567f481b6d18"
      },
      "outputs": [
        {
          "data": {
            "text/plain": [
              "<bound method PageObject.extract_text of {'/Type': '/Page', '/Annots': [IndirectObject(208, 0, 4437966736), IndirectObject(209, 0, 4437966736), IndirectObject(250, 0, 4437966736), IndirectObject(251, 0, 4437966736), IndirectObject(252, 0, 4437966736), IndirectObject(253, 0, 4437966736), IndirectObject(254, 0, 4437966736)], '/Contents': IndirectObject(257, 0, 4437966736), '/MediaBox': [0, 0, 612, 792], '/Parent': IndirectObject(81, 0, 4437966736), '/Resources': IndirectObject(255, 0, 4437966736)}>"
            ]
          },
          "execution_count": 7,
          "metadata": {},
          "output_type": "execute_result"
        }
      ],
      "source": [
        "reader.pages[5].extract_text"
      ]
    },
    {
      "cell_type": "code",
      "execution_count": 8,
      "metadata": {
        "colab": {
          "base_uri": "https://localhost:8080/"
        },
        "id": "RgvP0FyXMZYZ",
        "outputId": "f203ab67-f92c-4e28-db2d-2005fc923403"
      },
      "outputs": [
        {
          "name": "stdout",
          "output_type": "stream",
          "text": [
            "Tree of Thoughts: Deliberate Problem Solving\n",
            "with Large Language Models\n",
            "Shunyu Yao\n",
            "Princeton UniversityDian Yu\n",
            "Google DeepMindJeffrey Zhao\n",
            "Google DeepMindIzhak Shafran\n",
            "Google DeepMind\n",
            "Thomas L. Griffiths\n",
            "Princeton UniversityYuan Cao\n",
            "Google DeepMindKarthik Narasimhan\n",
            "Princeton University\n",
            "Abstract\n",
            "Language models are increasingly being deployed for general problem solving\n",
            "across a wide range of tasks, but are still confined to token-level, left-to-right\n",
            "decision-making processes during inference. This means they can fall short in\n",
            "tasks that require exploration, strategic lookahead, or where initial decisions play\n",
            "a pivotal role. To surmount these challenges, we introduce a new framework for\n",
            "language model inference, “Tree of Thoughts” (ToT), which generalizes over the\n",
            "popular “Chain of Thought” approach to prompting language models, and enables\n",
            "exploration over coherent units of text (“thoughts”) that serve as intermediate steps\n",
            "toward problem solving. ToT allows LMs to perform deliberate decision making\n",
            "by considering multiple different reasoning paths and self-evaluating choices to\n",
            "decide the next course of action, as well as looking ahead or backtracking when\n",
            "necessary to make global choices. Our experiments show that ToT significantly\n",
            "enhances language models’ problem-solving abilities on three novel tasks requiring\n",
            "non-trivial planning or search: Game of 24, Creative Writing, and Mini Crosswords.\n",
            "For instance, in Game of 24, while GPT-4 with chain-of-thought prompting only\n",
            "solved 4% of tasks, our method achieved a success rate of 74%. Code repo with all\n",
            "prompts: https://github.com/princeton-nlp/tree-of-thought-llm .\n",
            "1 Introduction\n",
            "Originally designed to generate text, scaled-up versions of language models (LMs) such as GPT [ 25,\n",
            "26,1,23] and PaLM [ 5] have been shown to be increasingly capable of performing an ever wider\n",
            "range of tasks requiring mathematical, symbolic, commonsense, and knowledge reasoning. It is\n",
            "perhaps surprising that underlying all this progress is still the original autoregressive mechanism for\n",
            "generating text, which makes token-level decisions one by one and in a left-to-right fashion. Is such\n",
            "a simple mechanism sufficient for a LM to be built toward a general problem solver? If not, what\n",
            "problems would challenge the current paradigm, and what should be alternative mechanisms?\n",
            "The literature on human cognition provides some clues to answer these questions. Research on “dual\n",
            "process” models suggests that people have two modes in which they engage with decisions – a fast,\n",
            "automatic, unconscious mode (“System 1”) and a slow, deliberate, conscious mode (“System 2”)\n",
            "[30,31,16,15]. These two modes have previously been connected to a variety of mathematical\n",
            "models used in machine learning. For example, research on reinforcement learning in humans and\n",
            "other animals has explored the circumstances under which they engage in associative “model free”\n",
            "learning or more deliberative “model based” planning [ 7]. The simple associative token-level choices\n",
            "of LMs are also reminiscent of “System 1”, and thus might benefit from augmentation by a more\n",
            "deliberate “System 2” planning process that (1) maintains and explores diverse alternatives for current\n",
            "37th Conference on Neural Information Processing Systems (NeurIPS 2023).arXiv:2305.10601v2  [cs.CL]  3 Dec 2023Figure 1: Schematic illustrating various approaches to problem solving with LLMs. Each rectangle\n",
            "box represents a thought , which is a coherent language sequence that serves as an intermediate\n",
            "step toward problem solving. See concrete examples of how thoughts are generated, evaluated, and\n",
            "searched in Figures 2,4,6.\n",
            "choices instead of just picking one, and (2) evaluates its current status and actively looks ahead or\n",
            "backtracks to make more global decisions.\n",
            "To design such a planning process, we return to the origins of artificial intelligence (and cognitive\n",
            "science), drawing inspiration from the planning processes explored by Newell, Shaw, and Simon\n",
            "starting in the 1950s [ 21,22]. Newell and colleagues characterized problem solving [ 21] as search\n",
            "through a combinatorial problem space, represented as a tree. We thus propose the Tree of Thoughts\n",
            "(ToT) framework for general problem solving with language models. As Figure 1 illustrates, while\n",
            "existing methods (detailed below) sample continuous language sequences for problem solving, ToT\n",
            "actively maintains a tree of thoughts, where each thought is a coherent language sequence that serves\n",
            "as an intermediate step toward problem solving (Table 1). Such a high-level semantic unit allows the\n",
            "LM to self-evaluate the progress different intermediate thoughts make towards solving the problem\n",
            "through a deliberate reasoning process that is also instantiated in language (Figures 2,4,6). This\n",
            "implementation of search heuristics via LM self-evaluation and deliberation is novel, as previous\n",
            "search heuristics are either programmed or learned. Finally, we combine this language-based\n",
            "capability to generate and evaluate diverse thoughts with search algorithms, such as breadth-first\n",
            "search (BFS) or depth-first search (DFS), which allow systematic exploration of the tree of thoughts\n",
            "with lookahead and backtracking.\n",
            "Empirically, we propose three new problems that challenge existing LM inference methods even with\n",
            "the state-of-the-art language model, GPT-4 [ 23]: Game of 24, Creative Writing, and Crosswords\n",
            "(Table 1). These tasks require deductive, mathematical, commonsense, lexical reasoning abilities,\n",
            "and a way to incorporate systematic planning or search. We show ToT obtains superior results on\n",
            "all three tasks by being general and flexible enough to support different levels of thoughts, different\n",
            "ways to generate and evaluate thoughts, and different search algorithms that adapt to the nature of\n",
            "different problems. We also analyze how such choices affect model performances via systematic\n",
            "ablations and discuss future directions to better train and use LMs.\n",
            "2 Background\n",
            "We first formalize some existing methods that use large language models for problem-solving,\n",
            "which our approach is inspired by and later compared with. We use pθto denote a pre-trained LM\n",
            "with parameters θ, and lowercase letters x, y, z, s, ···to denote a language sequence , i.e.x=\n",
            "(x[1],···, x[n])where each x[i]is a token, so that pθ(x) =Qn\n",
            "i=1pθ(x[i]|x[1...i]). We use uppercase\n",
            "letters S,···to denote a collection of language sequences.\n",
            "Input-output (IO) prompting is the most common way to turn a problem input xinto output\n",
            "ywith LM: y∼pθ(y|promptIO(x)), where promptIO(x)wraps input xwith task instructions\n",
            "and/or few-shot input-output examples. For simplicity, let us denote pprompt\n",
            "θ(output |input ) =\n",
            "pθ(output |prompt (input )), so that IO prompting can be formulated as y∼pIO\n",
            "θ(y|x)Chain-of-thought (CoT) prompting [38] was proposed to address cases where the mapping of\n",
            "input xto output yis non-trivial (e.g. when xis a math question and yis the final numerical answer).\n",
            "The key idea is to introduce a chain of thoughts z1,···, znto bridge xandy, where each ziis a\n",
            "coherent language sequence that serves as a meaningful intermediate step toward problem solving\n",
            "(e.g.zicould be an intermediate equation for math QA). To solve problems with CoT, each thought\n",
            "zi∼pCoT\n",
            "θ(zi|x, z1···i−1)is sampled sequentially, then the output y∼pCoT\n",
            "θ(y|x, z1···n). In\n",
            "practice, [z1···n, y]∼pCoT\n",
            "θ(z1···n, y|x)is sampled as a continuous language sequence, and the\n",
            "decomposition of thoughts (e.g. is each zia phrase, a sentence, or a paragraph) is left ambiguous.\n",
            "Self-consistency with CoT (CoT-SC) [36] is an ensemble approach that samples ki.i.d. chains\n",
            "of thought: [z(i)\n",
            "1···n, y(i)]∼pCoT\n",
            "θ(z1···n, y|x) (i= 1···k), then returns the most frequent output:\n",
            "arg max y#{i|y(i)=y}. CoT-SC improves upon CoT, because there are generally different\n",
            "thought processes for the same problem (e.g. different ways to prove the same theorem), and the\n",
            "output decision can be more faithful by exploring a richer set of thoughts. However, within each\n",
            "chain there is no local exploration of different thought steps, and the “most frequent” heuristic only\n",
            "applies when the output space is limited (e.g. multi-choice QA).\n",
            "3 Tree of Thoughts: Deliberate Problem Solving with LM\n",
            "A genuine problem-solving process involves the repeated use of available informa-\n",
            "tion to initiate exploration, which discloses, in turn, more information until a way\n",
            "to attain the solution is finally discovered.—— Newell et al. [21]\n",
            "Research on human problem-solving suggests that people search through a combinatorial problem-\n",
            "space – a tree where the nodes represent partial solutions, and the branches correspond to operators\n",
            "that modify them [ 21,22]. Which branch to take is determined by heuristics that help to navigate the\n",
            "problem-space and guide the problem-solver towards a solution. This perspective highlights two key\n",
            "shortcomings of existing approaches that use LMs to solve general problems: 1) Locally, they do not\n",
            "explore different continuations within a thought process – the branches of the tree. 2) Globally, they\n",
            "do not incorporate any type of planning, lookahead, or backtracking to help evaluate these different\n",
            "options – the kind of heuristic-guided search that seems characteristic of human problem-solving.\n",
            "To address these shortcomings, we introduce Tree of Thoughts (ToT) , a paradigm that allows LMs to\n",
            "explore multiple reasoning paths over thoughts (Figure 1(c)). ToT frames any problem as a search\n",
            "over a tree, where each node is a state s= [x, z1···i]representing a partial solution with the input and\n",
            "the sequence of thoughts so far. A specific instantiation of ToT involves answering four questions:\n",
            "1. How to decompose the intermediate process into thought steps; 2. How to generate potential\n",
            "thoughts from each state; 3. How to heuristically evaluate states; 4. What search algorithm to use.\n",
            "1. Thought decomposition. While CoT samples thoughts coherently without explicit decomposition,\n",
            "ToT leverages problem properties to design and decompose intermediate thought steps. As Table 1\n",
            "shows, depending on different problems, a thought could be a couple of words (Crosswords), a line of\n",
            "equation (Game of 24), or a whole paragraph of writing plan (Creative Writing). In general, a thought\n",
            "should be “small” enough so that LMs can generate promising and diverse samples (e.g. generating\n",
            "a whole book is usually too “big” to be coherent), yet “big” enough so that LMs can evaluate its\n",
            "prospect toward problem solving (e.g. generating one token is usually too “small” to evaluate).\n",
            "2. Thought generator G(pθ, s, k).Given a tree state s= [x, z1···i], we consider two strategies to\n",
            "generate kcandidates for the next thought step:\n",
            "(a)Sample i.i.d. thoughts from a CoT prompt (Creative Writing, Figure 4): z(j)∼\n",
            "pCoT\n",
            "θ(zi+1|s) =pCoT\n",
            "θ(zi+1|x, z1···i) (j= 1···k). This works better when the thought\n",
            "space is rich (e.g. each thought is a paragraph), and i.i.d. samples lead to diversity;\n",
            "(b)Propose thoughts sequentially using a “propose prompt” (Game of 24, Figure 2; Crosswords,\n",
            "Figure 6): [z(1),···, z(k)]∼ppropose\n",
            "θ(z(1···k)\n",
            "i+1|s). This works better when the thought\n",
            "space is more constrained (e.g. each thought is just a word or a line), so proposing different\n",
            "thoughts in the same context avoids duplication.\n",
            "3. State evaluator V(pθ, S).Given a frontier of different states, the state evaluator evaluates the\n",
            "progress they make towards solving the problem, serving as a heuristic for the search algorithm\n",
            "to determine which states to keep exploring and in which order. While heuristics are a standard\n",
            "learned (e.g. AlphaGo [ 29]). We propose a third alternative, by using the LM to deliberately reason\n",
            "about states. When applicable, such a deliberate heuristic can be more flexible than programmed\n",
            "rules, and more sample-efficient than learned models. Similar to the thought generator, we consider\n",
            "two strategies to evaluate states either independently or together:\n",
            "(a)Value each state independently: V(pθ, S)(s)∼pvalue\n",
            "θ(v|s)∀s∈S, where a value\n",
            "prompt reasons about the state sto generate a scalar value v(e.g. 1-10) or a classifica-\n",
            "tion (e.g. sure/likely/impossible) that could be heuristically turned into a value. The basis\n",
            "of such evaluative reasoning can vary across problems and thought steps. In this work, we\n",
            "explore evaluation via few lookahead simulations (e.g. quickly confirm that 5, 5, 14 can\n",
            "reach 24 via 5 + 5 + 14, or “hot l” can mean “inn” via filling “e” in “ ”) plus commonsense\n",
            "(e.g. 1 2 3 are too small to reach 24, or no word can start with “tzxc”). While the former\n",
            "might promote “good” states, the latter could help eliminate “bad” states. Such valuations\n",
            "do not need to be perfect, and only need to be approximately helpful for decision making.\n",
            "(b)Vote across states: V(pθ, S)(s) =1[s=s∗], where a “good” state s∗∼pvote\n",
            "θ(s∗|S)is\n",
            "voted out based on deliberately comparing different states in Sin a vote prompt. When\n",
            "problem success is harder to directly value (e.g. passage coherency), it is natural to to instead\n",
            "compare different partial solutions and vote for the most promising one. This is similar\n",
            "in spirit to a “step-wise” self-consistency strategy, i.e. cast “which state to explore” as a\n",
            "multi-choice QA, and use LM samples to vote for it.\n",
            "For both strategies, we could prompt the LM multiple times to aggregate the value or vote results to\n",
            "trade time/resource/cost for more faithful/robust heuristics.\n",
            "Algorithm 1 ToT-BFS( x, pθ, G, k, V, T, b )\n",
            "Require: Input x, LM pθ, thought generator G()\n",
            "& size limit k, states evaluator V(), step limit T,\n",
            "breadth limit b.\n",
            "S0← {x}\n",
            "fort= 1,···, Tdo\n",
            "S′\n",
            "t← {[s, z]|s∈St−1, zt∈G(pθ, s, k)}\n",
            "Vt←V(pθ, S′\n",
            "t)\n",
            "St←arg max S⊂S′\n",
            "t,|S|=bP\n",
            "s∈SVt(s)\n",
            "end for\n",
            "return G(pθ,arg max s∈STVT(s),1)Algorithm 2 ToT-DFS( s, t, p θ, G, k, V, T, v th)\n",
            "Require: Current state s, step t, LM pθ, thought\n",
            "generator G()and size limit k, states evaluator\n",
            "V(), step limit T, threshold vth\n",
            "ift > T then record output G(pθ, s,1)\n",
            "end if\n",
            "fors′∈G(pθ, s, k)do ▷sorted candidates\n",
            "ifV(pθ,{s′})(s)> vthres then ▷pruning\n",
            "DFS(s′, t+ 1)\n",
            "end if\n",
            "end for\n",
            "4. Search algorithm. Finally, within the ToT framework, one can plug and play different search\n",
            "algorithms depending on the tree structure. We explore two relatively simple search algorithms and\n",
            "leave more advanced ones (e.g. A* [11], MCTS [2]) for future work:\n",
            "(a)Breadth-first search (BFS) (Algorithm 1) maintains a set of the bmost promising states\n",
            "per step. This is used for Game of 24 and Creative Writing where the tree depth is limit\n",
            "(T≤3), and initial thought steps can be evaluated and pruned to a small set ( b≤5).\n",
            "(b)Depth-first search (DFS) (Algorithm 2) explores the most promising state first, until the\n",
            "final output is reached ( t > T ), or the state evaluator deems it impossible to solve the\n",
            "problem from the current s(V(pθ,{s})(s)≤vthfor a value threshold vth). In the latter\n",
            "case, the subtree from sispruned to trade exploration for exploitation. In both cases, DFS\n",
            "backtracks to the parent state of sto continue exploration.\n",
            "Conceptually, ToT has several benefits as a method for general problem-solving with LMs: (1) Gener-\n",
            "ality. IO, CoT, CoT-SC, and self-refinement can be seen as special cases of ToT (i.e. trees of limited\n",
            "depth and breadth; Figure 1). (2) Modularity. The base LM, as well as the thought decomposition,\n",
            "generation, evaluation, and search procedures can all be varied independently. (3) Adaptability .\n",
            "Different problem properties, LM capabilities, and resource constraints can be accommodated. (4)\n",
            "Convenience. No extra training is needed, just a pre-trained LM is sufficient. The next section will\n",
            "show how these conceptual benefits translate to strong empirical performance in different problems.\n",
            "4 Experiments\n",
            "We propose three tasks that are hard even when sampling from the state-of-the-art language model,\n",
            "Game of 24 Creative Writing 5x5 Crosswords\n",
            "Input 4 numbers (4 9 10 13) 4 random sentences 10 clues (h1. presented;..)\n",
            "Output An equation to reach 24\n",
            "(13-9)*(10-4)=24A passage of 4 paragraphs\n",
            "ending in the 4 sentences5x5 letters: SHOWN;\n",
            "WIRRA; A V AIL; ...\n",
            "Thoughts 3 intermediate equations\n",
            "(13-9=4 (left 4,4,10); 10-\n",
            "4=6 (left 4,6); 4*6=24)A short writing plan\n",
            "(1. Introduce a book that\n",
            "connects...)Words to fill in for clues:\n",
            "(h1. shown; v5. naled; ...)\n",
            "#ToT steps 3 1 5-10 (variable)\n",
            "Table 1: Task overview. Input, output, thought examples are in blue.\n",
            "deliberate search in trees of thoughts (ToT) produces better results, and more importantly, interesting\n",
            "and promising new ways to use language models to solve problems requiring search or planning.\n",
            "Unless otherwise stated, we perform experiments using a Chat Completion mode GPT-41with a\n",
            "sampling temperature of 0.7.\n",
            "4.1 Game of 24\n",
            "Game of 24 is a mathematical reasoning challenge, where the goal is to use 4 numbers and basic\n",
            "arithmetic operations (+-*/) to obtain 24. For example, given input “4 9 10 13”, a solution output\n",
            "could be “(10 - 4) * (13 - 9) = 24”.\n",
            "ĵŝŝđæĦòˤĮòƅƜˤŝŤòŔŝʝˤˤˤʳʛʛʛĭĵŗòˤĦđĮòŝʟʴɾɽˤɾʁʝˤɾɽˤ̌ˤɾʁˤ̐ˤɿʁʛˤŝũŗòʳĭĵŗòˤòƅÊĭŔĦòŝʴɾɽˤɾʀˤɾʀĎòŗòˤƓŝˤĮĵˤƀÊƆˤƘĵˤĵæŤÊđĮˤɿʁˤƀƓƜĎˤƛĎòŝòˤĮũĭæòŗŝʛˤđĭŔĵŝŝđæĦòĵŝŝđæĦòˤĮòƅƜˤŝŤòŔŝʝˤˤˤʳʛʛʛĭĵŗòˤĦđĮòŝʟʴɾɽˤɾʁʝˤɾɽˤ̌ˤɾʁˤ̐ˤɿʁʛˤŝũŗòʳĭĵŗòˤòƅÊĭŔĦòŝʴɾɽˤɾʀˤɾʀƘĵˤĵæŤÊđĮˤɿʁˤƀƓƜĎˤƛĎòŝòˤæƓĈˤĮũĭæòŗŝʛˤđĭŔĵŝŝđæĦòʳĵĮòˤòƅÊĭŔĦòʴˤGĮŔũƜʝˤʁˤʆˤɾɽˤɾʀĵŝŝđæĦòˤĮòƅƜˤŝŤòŔŝʝˤˤˤ3URSRVH\u00033URPSWʁˤ̌ˤʆˤ̐ˤɾʀˤʱĦòƙƜʝˤɾɽˤɾʀˤɾʀʲɾɽˤˊˤʁˤ̐ˤʃˤʱĦòƙƜʝˤʃˤʆˤɾʀʲʳʛʛʛĭĵŗòˤĦđĮòŝʟʴ7KRXJKW\u0003*HQHUDWLRQ/0)ſÊĦũÊŤòˤđƙˤĈƓſòĮˤĮũĭæòŗŝˤçÊĮˤŗòÊçĎˤɿʁˤʱŝũŗòʫĦđģòĦƆʫđĭŔĵŝŝđæĦòʲɾɽˤɾʁʝˤɾɽˤ̌ˤɾʁˤ̐ˤɿʁʛˤŝũŗòʳĭĵŗòˤòƅÊĭŔĦòŝʴɾɽˤɾʀˤɾʀ9DOXH\u00033URPSWʱɾʀˤˊˤɾɽʲˤʦˤɾʀˤ̐ˤʀˤʦˤɾʀˤ̐ˤʀʆɾɽˤ̌ˤɾʀˤ̌ˤɾʀˤ̐ˤʀʃĎòŗòˤƓŝˤĮĵˤƀÊƆˤƘĵˤĵæŤÊđĮˤɿʁˤƀƓƜĎˤƛĎòŝòˤĮũĭæòŗŝʛˤđĭŔĵŝŝđæĦò7KRXJKW\u0003(YDOXDWLRQʱæʲʱçʲ/0GĮŔũƜʝˤʁˤʆˤɾɽˤɾʀʁ̌ʆ̐ɾʀʱĦòƙƜʝˤɾɽˤɾʀˤɾʀʲɾɽˁʁ̐ʃʱĦòƙƜʝˤʃˤʆˤɾʀʲʟʟɾʀˁʃ̐ʄʱĦòƙƜʝˤʄˤʆʲɾʀˁʆ̐ʁʱĦòƙƜʝˤʁˤʃʲʟʟʁʦʃ̐ɿʁʱĦòƙƜʝˤɿʁʲʁ̌ʃ̐ɾɽʱĦòƙƜʝˤɾɽʲʟʟʱÊʲ\n",
            "ʳĵĮòˤòƅÊĭŔĦòʴˤGĮŔũƜʝˤʁˤʆˤɾɽˤɾʀĵŝŝđæĦòˤĮòƅƜˤŝŤòŔŝʝˤˤˤ\u000bD\f\u00033URSRVH\u00033URPSWʁˤ̌ˤʆˤ̐ˤɾʀˤʱĦòƙƜʝˤɾɽˤɾʀˤɾʀʲɾɽˤˊˤʁˤ̐ˤʃˤʱĦòƙƜʝˤʃˤʆˤɾʀʲʳʛʛʛĭĵŗòˤĦđĮòŝʟʴ7KRXJKW\u0003*HQHUDWLRQ/0)ſÊĦũÊŤòˤđƙˤĈƓſòĮˤĮũĭæòŗŝˤçÊĮˤŗòÊçĎˤɿʁˤʱŝũŗòʫĦđģòĦƆʫđĭŔĵŝŝđæĦòʲɾɽˤɾʁʝˤɾɽˤ̌ˤɾʁˤ̐ˤɿʁʛˤŝũŗòʳĭĵŗòˤòƅÊĭŔĦòŝʴɾɽˤɾʀˤɾʀ\u000bE\f\u00039DOXH\u00033URPSWʱɾʀˤˊˤɾɽʲˤʦˤɾʀˤ̐ˤʀˤʦˤɾʀˤ̐ˤʀʆɾɽˤ̌ˤɾʀˤ̌ˤɾʀˤ̐ˤʀʃˤĎòŗòˤƓŝˤĮĵˤƀÊƆˤƘĵˤĵæŤÊđĮˤɿʁˤƀƓƜĎˤƛĎòŝòˤæƓĈˤĮũĭæòŗŝʛˤđĭŔĵŝŝđæĦò7KRXJKW\u0003(YDOXDWLRQ/0GĮŔũƜʝˤʁˤʆˤɾɽˤɾʀʁ̌ʆ̐ɾʀʱĦòƙƜʝˤɾɽˤɾʀˤɾʀʲɾɽˁʁ̐ʃʱĦòƙƜʝˤʃˤʆˤɾʀʲʟʟɾʀˁʃ̐ʄʱĦòƙƜʝˤʄˤʆʲɾʀˁʆ̐ʁʱĦòƙƜʝˤʁˤʃʲʟʟʁʦʃ̐ɿʁʱĦòƙƜʝˤɿʁʲʁ̌ʃ̐ɾɽʱĦòƙƜʝˤɾɽʲʟʟ)L[\u0003FRORU\u0003\u000bE\\\u0003<XTLDQ\f0DUN\u0003GLII\u0003SURPSW\u0003ZLWK\u0003FRORU\n",
            "Figure 2: ToT in a game of 24. The LM is prompted for (a) thought generation and (b) valuation.\n",
            "Task Setup. We scrape data from 4nums.com, which has 1,362 games that are sorted from easy to\n",
            "hard by human solving time, and use a subset of relatively hard games indexed 901-1,000 for testing.\n",
            "For each task, we consider the output as success if it is a valid equation that equals 24 and uses the\n",
            "input numbers each exactly once. We report the success rate across 100 games as the metric.\n",
            "Baselines. We use a standard input-output (IO) prompt with 5 in-context examples. For chain-of-\n",
            "thought (CoT) prompting, we augment each input-output pair with 3 intermediate equations, each\n",
            "operating on two remaining numbers. For example, given input “4 9 10 13”, the thoughts could be\n",
            "“13 - 9 = 4 (left: 4 4 10); 10 - 4 = 6 (left: 4 6); 4 * 6 = 24 (left: 24)”. For each game, we sample IO\n",
            "and CoT prompting for 100 times for average performance. We also consider a CoT self-consistency\n",
            "baseline, which takes the majority output from 100 CoT samples, and an iterative-refine approach on\n",
            "top of an IO sample for at most 10iterations. At each iteration, the LM is conditioned on all previous\n",
            "history to “reflect on your mistakes and generate a refined answer” if the output is incorrect. Note\n",
            "that it uses groundtruth feedback signals about equation correctness.\n",
            "ToT Setup. To frame Game of 24 into ToT, it is natural to decompose the thoughts into 3 steps,\n",
            "each an intermediate equation. As shown in Figure 2(a), at each tree node, we exact the remaining\n",
            "numbers and prompt the LM to propose some possible next steps. The same “propose prompt” is\n",
            "used for all 3 thought steps, though it only has one example with 4 input numbers. We perform a\n",
            "breadth-first search (BFS) in ToT, where at each step we keep the best b= 5candidates. To perform\n",
            "deliberate BFS in ToT, as shown in Figure 2(b), we prompt LM to evaluate each thought candidate as\n",
            "“sure/maybe/impossible” with regard to reaching 24. The aim is to promote correct partial solutions\n",
            "that can be verdicted within few lookahead trials, and eliminate impossible partial solutions based on\n",
            "“too big/small” commonsense, and keep the rest “maybe”. We sample values 3times for each thought.\n",
            "1Experiments were done between May 5-16, 2023.Method Success\n",
            "IO prompt 7.3%\n",
            "CoT prompt 4.0%\n",
            "CoT-SC (k=100) 9.0%\n",
            "ToT (ours) (b=1) 45%\n",
            "ToT (ours) (b=5) 74%\n",
            "IO + Refine (k=10) 27%\n",
            "IO(best of 100) 33%\n",
            "CoT (best of 100) 49%\n",
            "Table 2: Game of 24 Results.\n",
            "0 25 50 75 1000.20.40.6(a) Success rate with nodes visited\n",
            "IO (best of k)\n",
            "CoT (best of k)\n",
            "ToT (b=1...5)\n",
            "1 2 3 4Correct0.00.20.40.6(b) Samples failed at each step\n",
            "CoT\n",
            "ToT (b=5) Figure 3: Game of 24 (a) scale analysis & (b) error analysis.\n",
            "Results. As shown in Table 2, IO, CoT, and CoT-SC prompting methods perform badly on the task,\n",
            "achieving only 7.3%, 4.0%, and 9.0% success rates. In contrast, ToT with a breadth of b= 1already\n",
            "achieves a success rate of 45%, while b= 5 achieves 74%. We also consider an oracle setup for\n",
            "IO/CoT, by calculating the success rate using best of ksamples (1≤k≤100) . To compare IO/CoT\n",
            "(best of k) with ToT, we consider calculating the tree nodes visited per task in ToT across b= 1···5,\n",
            "and map the 5 success rates in Figure 3(a), treating IO/CoT (best of k) as visiting knodes in a bandit.\n",
            "Not surprisingly, CoT scales better than IO, and best of 100 CoT samples achieve a success rate of\n",
            "49%, but still much worse than exploring more nodes in ToT ( b >1).\n",
            "Error analysis. Figure 3(b) breaks down at which step CoT and ToT samples fail the task, i.e. the\n",
            "thought (in CoT) or all bthoughts (in ToT) are invalid or impossible to reach 24. Notably, around\n",
            "60% of CoT samples already failed the task after generating the first step, or equivalently, the first\n",
            "three words (e.g. “ 4 + 9 ”). This highlights the issues with direct left-to-right decoding.\n",
            "4.2 Creative writing\n",
            "Next, we invent a creative writing task where the input is 4 random sentences and the output should\n",
            "be a coherent passage with 4 paragraphs that end in the 4 input sentences respectively. Such a task is\n",
            "open-ended and exploratory, and challenges creative thinking as well as high-level planning.\n",
            "Task setup. We sample random sentences from randomwordgenerator.com to form 100 inputs, and\n",
            "there is no groundtruth passage for each input constraint. As we find that GPT-4 can follow the\n",
            "input constraints most of the time, we focus on evaluating passage coherency in two ways: using a\n",
            "GPT-4 zero-shot prompt to provide a 1-10 scalar score, or using human judgments to compare pairs\n",
            "of outputs from different methods. For the former, we sample 5 scores and average them for each task\n",
            "output, and we find these 5 scores usually consistent, with a standard deviation of around 0.56on\n",
            "average across outputs. For the latter, we employ a subset of the authors in a blind study to compare\n",
            "the coherency of CoT vs. ToT generated passage pairs, where the order of passages is random flipped\n",
            "over 100 inputs.\n",
            "Baselines. Given the creative nature of the task, both IO and CoT prompts are zero-shot. While the\n",
            "former prompts the LM to directly generate a coherent passage given input constraints, the latter\n",
            "prompts the LM to first make a brief plan then write the passage, i.e. the plan serves as the intermediate\n",
            "thought step. We generate 10 IO and CoT samples per task. We also consider an iterative-refine\n",
            "(k≤5) method on top of a random IO sample for each task, where the LM is conditioned on input\n",
            "constraints and the last generated passage to decide if the passage is already “perfectly coherent”,\n",
            "and if not generate a refined one.\n",
            "ToT setup. We build a ToT with depth 2 (and only 1 intermediate thought step) — the LM first\n",
            "generates k= 5plans and votes for the best one (Figure 4), then similarly generate k= 5passages\n",
            "based on the best plan then vote for the best one. Here the breadth limit b= 1, as only one choice is\n",
            "kept per step. A simple zero-shot vote prompt (“analyze choices below, then conclude which is most\n",
            "promising for the instruction”) is used to sample 5 votes at both steps.\n",
            "Results. Figure 5(a) shows average GPT-4 scores across 100 tasks, where ToT (7.56) is deemed to\n",
            "generate more coherent passages than IO (6.19) and CoT (6.93) on average. While such an automatic\n",
            "metric might be noisy, Figure 5(b) confirms the finding by showing that humans prefer ToT over\n",
            "CoT in 41 out of 100 passage pairs, while only prefer CoT over ToT in 21 (other 38 pairs are found\n",
            ")ÊçĎˤŔòŗŝĵĮˤƀĎĵˤģĮĵƀŝˤƆĵũˤĎÊŝˤÊˤíđƙćòŗòĮƜˤŔòŗçòŔƜƓĵĮˤĵƙˤƀĎĵˤƆĵũˤÊŗòʛˤˤÊˤŝƓƜũÊƜƓĵĮˤƀĎòŗòˤÊˤƀĵĭÊĮˤũŝòŝˤŝƓĈĮˤĦÊĮĈũÊĈòˤƘĵˤÊſĵƓíˤũĮƀÊĮŤòíˤÊƜŤòĮƜƓĵĮˤʁʛˤĎòˤƚđĮÊĦˤŔÊŗÊĈŗÊŔĎˤòƅŔĦÊđĮŝˤĎĵƀˤòſòŗƆĵĮòˤĎÊŝˤíđƙćòŗòĮƜˤŔòŗçòŔƜƓĵĮŝˤĵƙˤĵƜĎòŗŝƚŗĵĭˤÊŝƜŗĵĮÊũŤŝʜˤđĮçĦũíđĮĈˤƛĎòˤŝĭòĦĦˤĵƙˤŝŔÊçòʛˤʀʛˤ#òŝçŗđæòˤÊˤƀĵĭÊĮ˙ŝˤçĦòſòŗˤƘÊçƜƓçˤƗĵŗˤÊſĵƓíđĮĈˤũĮƀÊĮŤòíˤÊƜŤòĮƜƓĵĮˤÊƜˤÊˤæÊŗʛˤʁʛˤ\u001dĵĮŤòĭŔĦÊŤòˤĎĵƀˤíđƙćòŗòĮƜˤŔòŗçòŔƜƓĵĮŝˤĵƙˤĵĮòŝòĦƙˤçÊĮˤŝĎÊŔòˤĵĮò˙ŝˤƓíòĮƜƓŤƆʛʱʀˤĭĵŗòˤĵĭƓƜŤòíʲŝòĦƙˊđĭŔŗĵſòĭòĮƜˤÊĮíˤòĭæŗÊçđĮĈˤçĎÊĦĦòĮĈòŝʜˤĭÊģđĮĈˤƗĵŗˤÊˤçĵĎòŗòĮƜˤŔÊŝŝÊĈòʛˤˤʳʛʛʛʴˤĎòˤæòŝƜˤçĎĵƓçòˤƓŝˤɿʛŝòĦƙˊđĭŔŗĵſòĭòĮƜˤÊĮíˤòĭæŗÊçđĮĈˤçĎÊĦĦòĮĈòŝʜˤĭÊģđĮĈˤƗĵŗˤÊˤçĵĎòŗòĮƜˤŔÊŝŝÊĈòʛˤˤʳʛʛʛʴˤĎòˤæòŝƜˤçĎĵƓçòˤƓŝˤɿʛŝòĦƙˊđĭŔŗĵſòĭòĮƜˤÊĮíˤòĭæŗÊçđĮĈˤçĎÊĦĦòĮĈòŝʜˤĭÊģđĮĈˤƗĵŗˤÊˤçĵĎòŗòĮƜˤŔÊŝŝÊĈòʛˤˤʳʛʛʛʴˤĎòˤæòŝƜˤçĎĵƓçòˤƓŝˤɿʛŝòĦƙˊđĭŔŗĵſòĭòĮƜˤÊĮíˤòĭæŗÊçđĮĈˤçĎÊĦĦòĮĈòŝʜˤĭÊģđĮĈˤƗĵŗˤÊˤçĵĎòŗòĮƜˤŔÊŝŝÊĈòʛˤˤʳʛʛʛʴˤĎòˤæòŝƜˤçĎĵƓçòˤƓŝˤɿʛŝòĦƙˊđĭŔŗĵſòĭòĮƜˤÊĮíˤòĭæŗÊçđĮĈˤçĎÊĦĦòĮĈòŝʜˤĭÊģđĮĈˤƗĵŗˤÊˤçĵĎòŗòĮƜˤŔÊŝŝÊĈòʛˤˤʳʛʛʛʴˤĎòˤæòŝƜˤçĎĵƓçòˤƓŝˤɿʛ)ÊçĎˤŔòŗŝĵĮˤƀĎĵˤģĮĵƀŝˤƆĵũˤĎÊŝˤÊˤíđƙćòŗòĮƜˤŔòŗçòŔƜƓĵĮˤĵƙˤƀĎĵˤƆĵũˤÊŗòʛˤˤŝŔÊçòˤʀʛˤ#òŝçŗđæòˤÊˤŝƓƜũÊƜƓĵĮˤƀĎòŗòˤÊˤƀĵĭÊĮˤũŝòŝˤŝƓĈĮˤĦÊĮĈũÊĈòˤƘĵˤÊſĵƓíˤũĮƀÊĮŤòíˤÊƜŤòĮƜƓĵĮˤʁʛˤĎòˤƚđĮÊĦˤŔÊŗÊĈŗÊŔĎˤòƅŔĦÊđĮŝˤĎĵƀˤòſòŗƆĵĮòˤĎÊŝˤíđƙćòŗòĮƜˤŔòŗçòŔƜƓĵĮŝˤĵƙˤĵƜĎòŗŝƛĎđĮĈŝˤĦòÊŗĮòíˤƚŗĵĭˤÊŝƜŗĵĮÊũŤŝʜˤđĮçĦũíđĮĈˤƛĎòˤŝĭòĦĦˤĵƙˤŝŔÊçòʛˤʀʛˤ#òŝçŗđæòˤÊˤƀĵĭÊĮ˙ŝˤçĦòſòŗˤƘÊçƜƓçˤƗĵŗˤÊſĵƓíđĮĈˤũĮƀÊĮŤòíˤÊƜŤòĮƜƓĵĮˤÊƜˤÊˤæÊŗʛˤʁʛˤ\u001dĵĮŤòĭŔĦÊŤòˤĎĵƀˤíđƙćòŗòĮƜˤŔòŗçòŔƜƓĵĮŝˤĵƙˤĵĮòŝòĦƙˤçÊĮˤŝĎÊŔòˤĵĮò˙ŝˤƓíòĮƜƓŤƆʛŝòĦƙˊđĭŔŗĵſòĭòĮƜˤÊĮíˤòĭæŗÊçđĮĈˤçĎÊĦĦòĮĈòŝʜˤĭÊģđĮĈˤƗĵŗˤÊˤçĵĎòŗòĮƜˤŔÊŝŝÊĈòʛˤˤʳʛʛʛʴˤĎòˤæòŝƜˤçĎĵƓçòˤƓŝˤɿʛʟʛʟʛɿʟʟŝòĦƙˊđĭŔŗĵſòĭòĮƜˤÊĮíˤòĭæŗÊçđĮĈˤçĎÊĦĦòĮĈòŝʜˤĭÊģđĮĈˤƗĵŗˤÊˤçĵĎòŗòĮƜˤŔÊŝŝÊĈòʛˤˤʳʛʛʛʴˤĎòˤæòŝƜˤçĎĵƓçòˤƓŝˤɿʛŝòĦƙˊđĭŔŗĵſòĭòĮƜˤÊĮíˤòĭæŗÊçđĮĈˤçĎÊĦĦòĮĈòŝʜˤĭÊģđĮĈˤƗĵŗˤÊˤçĵĎòŗòĮƜˤŔÊŝŝÊĈòʛˤˤʳʛʛʛʴˤĎòˤæòŝƜˤçĎĵƓçòˤƓŝˤɿʛŝòĦƙˊđĭŔŗĵſòĭòĮƜˤÊĮíˤòĭæŗÊçđĮĈˤçĎÊĦĦòĮĈòŝʜˤĭÊģđĮĈˤƗĵŗˤÊˤçĵĎòŗòĮƜˤŔÊŝŝÊĈòʛˤˤʳʛʛʛʴˤĎòˤæòŝƜˤçĎĵƓçòˤƓŝˤɿʛŝòĦƙˊđĭŔŗĵſòĭòĮƜˤÊĮíˤòĭæŗÊçđĮĈˤçĎÊĦĦòĮĈòŝʜˤĭÊģđĮĈˤƗĵŗˤÊˤçĵĎòŗòĮƜˤŔÊŝŝÊĈòʛˤˤʳʛʛʛʴˤĎòˤæòŝƜˤçĎĵƓçòˤƓŝˤɿʛFigure 4: A step of deliberate search in a randomly picked Creative Writing task. Given the input, the\n",
            "LM samples 5 different plans, then votes 5 times to decide which plan is best. The majority choice is\n",
            "used to consequently write the output passage with the same sample-vote procedure.\n",
            "IO CoT ToT IO\n",
            "+refineToT\n",
            "+refine468\n",
            "(a) GPT-4 coherency scores\n",
            "CoT > ToT Similar ToT > CoT010203040\n",
            "213841(b) Human coherency comparison\n",
            "Figure 5: Creative Writing results.Method Success Rate (%)\n",
            "Letter Word Game\n",
            "IO 38.7 14 0\n",
            "CoT 40.6 15.6 1\n",
            "ToT (ours) 78 60 20\n",
            "+best state 82.4 67.5 35\n",
            "-prune 65.4 41.5 5\n",
            "-backtrack 54.6 20 5\n",
            "Table 3: Mini Crosswords results.\n",
            "it improves IO coherency score from 6.19 to 7.67, and ToT coherency score from 7.56 to 7.91. We\n",
            "believe it could be thought of as a third approach to thought generation in the ToT framework, where\n",
            "new thoughts can arise from refining old thoughts instead of i.i.d. or sequentially generated.\n",
            "4.3 Mini crosswords\n",
            "In Game of 24 and Creative Writing, ToT is relatively shallow — at most 3 thought steps are needed\n",
            "to reach the final output. Here we explore 5×5mini crosswords as a harder search problem involving\n",
            "natural language. Again, the goal is not just to solve the task, as more general crosswords can be\n",
            "readily solved with specialized NLP pipelines [ 34] that leverages large-scale retrieval instead of LM.\n",
            "Rather, we aim to explore the limit of LM as a general problem solver that explores its own thoughts\n",
            "and guides its own exploration with deliberate reasoning as heuristics.\n",
            "Task setup. We scrape data from GooBix, which contains 156 games of 5×5mini crosswords. As\n",
            "we observe adjacent games contain similar clues, we use 20 games with indices 1,6,···,91,96for\n",
            "testing, and games 136,141,146,151,156for prompting. For each task, the input describes the 5\n",
            "horizontal clues and 5 vertical clues, and the output should be a board of 5×5 = 25 letters to solve\n",
            "the crosswords. For evaluation, we consider three levels of success: the portion of correct letters (25\n",
            "per game), words (10 per game), and games.\n",
            "Baselines. We provide 5 example input-output pairs in the IO prompt, and in the CoT prompt\n",
            "additionally include intermediate words in the order h1..5 then v1..5. We run each prompt for 10\n",
            "samples and average the results.\n",
            "ToT setup. We leverage a depth-first search (Algorithm 2) that keeps exploring the most promising\n",
            "subsequent word clue until the state is no longer promising, then backtrack to the parent state to\n",
            "explore alternative thoughts. To make search tractable, subsequent thoughts are constrained not to\n",
            "change any filled words or letters, so that the ToT has at most 10 intermediate steps. For thought\n",
            "generation, at each state we translate all existing thoughts (e.g. “h2.motor; h1.tasks” for the state\n",
            "in Figure 6(a)) into letter constraints for remaining clues (e.g. “v1.To heap: tm ;...”) and prompt\n",
            "a proposal prompt 5times to come up with candidates for where and what to fill in the next word.\n",
            "PHULW\n",
            "\u000f\u0003\u0013\u0011\u0017\f\u000f\u0003\u000b\n",
            "Y\u0014\u0011\u0003DOORZ\n",
            "\u000f\u0003\u0013\u0011\u0015\f\u000f\u0003\u000b\n",
            "Y\u0015\u0011\u0003JULQG\n",
            "\u000f\u0003\u0013\u0011\u0014\f\u000f\u0003\u000b\n",
            "K\u0017\u0011\u0003OHSHU\n",
            "\u000f\u0003\u0013\u0011\u0014\f@VFRUH\u000f\u0003DJJUHJDWHYLRODWH\u0016\u0011')6ˈˤˈˤˈˤˈˤˈFigure 6: In Mini Crosswords, (a) how thoughts are proposed and aggregated in a priority queue\n",
            "for depth-first search (DFS), and (b) how a state is evaluated based on the possibility of filling in\n",
            "each remaining word clue, and pruned if any remaining clue is deemed not possible to fill by the LM.\n",
            "Then DFS backtracks to the parent state and explore the next promising thought for clue.\n",
            "these across proposals to obtain a sorted list of next thoughts to explore (Figure 6(a)). For state\n",
            "evaluations, we similarly translate each state into letter constraints for remaining clues, then evaluate\n",
            "for each clue if it is possible to fill given the constraints. If any remaining clue is deemed “impossible”\n",
            "to fill in (e.g. “v1. To heap: tm s”), then the exploration of the state’s subtree is pruned and DFS\n",
            "backtracks to its parent to explore the next promising thought. We limit DFS search steps to 100, and\n",
            "simply render the deepest explored state (the first explored one if multiple) into the final output.\n",
            "Results. As shown in Table 3, IO and CoT prompting methods perform poorly with a word-level\n",
            "success rate less than 16%, while ToT significantly improves all metrics, achieving a word-level\n",
            "success rate of 60% and solving 4 out of 20 games. Such an improvement is not surprising, given IO\n",
            "and CoT lack mechanisms to try different clues, make changes to decisions, or backtrack.\n",
            "Oracle and ablation studies. When outputting from the oracle best DFS state (instead of the\n",
            "heuristically determined best state) per task, ToT performance is even higher and actually solves\n",
            "7/20 games (Table 3, “+best state”), indicating our simple output heuristics can be readily improved.\n",
            "Interestingly, sometimes when the crosswords game is actually solved, the state evaluator might still\n",
            "deem some words as “impossible” and prune — possibly because 5×5crosswords by design have\n",
            "some rare or obselete words that GPT-4 cannot recognize2. Given the state evaluation as a pruning\n",
            "heuristic is imperfect, we also explore ablating the pruning, and find the performance generally worse\n",
            "(Table 3, “-prune”). However, it could actually find the correct solution for 4/20 games (though only\n",
            "outputting 1 via heuristic), 3 of which are games ToT+pruning cannot solve within 100 steps. Thus,\n",
            "better heuristics for DFS pruning are critical for problem solving in this case. Lastly, we confirm the\n",
            "importance of backtracking by running an ablation that keeps filling the most promising clue for at\n",
            "most 20 steps, allowing overwrites. This is similar to a “greedy” BFS search with breadth limit of\n",
            "b= 1, and performs poorly with a word level success of only 20% (Table 3, “-backtrack”).\n",
            "5 Related Work\n",
            "Planning and decision making. Smart planning and decision making are critical to achieving\n",
            "predefined goals. As they are trained on vast amount of world knowledge and human examples, LMs\n",
            "are known to have already absorbed rich commonsense that makes it possible to propose reasonable\n",
            "plans conditioned on problem setting and environmental states [ 12,42,37,13,35,41,40]. Our\n",
            "proposed ToT approach extends existing planning formulations by considering multiple potentially\n",
            "feasible plans simultaneously at each problem-solving step, and proceeding with the most promising\n",
            "ones. The integration between thought sampling and value feedback organically integrates planning\n",
            "and decision-making mechanisms, enabling effective search inside a solution tree. On the other hand,\n",
            "traditional decision-making procedures usually require training dedicated reward and policy models\n",
            "as in reinforcement learning (for example CHAI [ 33]), whereas we use the LM itself to provide\n",
            "the value estimates for decision making. RAP [ 9] is a concurrent work that treats language model\n",
            "2For example, “agend” is an obsolete form of “agendum”, but GPT-4 deems it a typo for “agenda”. External\n",
            "retrieval or web interaction could augment LM for problem solving under knowledge uncertainty.reasoning as planning with its internal world model, and proposes a MCTS-based method similar to\n",
            "ToT. However, its tasks are simpler than ours, and its framework lacks the modularity to incorporate\n",
            "different tree search algorithms.\n",
            "Self-reflection. Using LLMs to assess the viability of their own predictions is becoming an in-\n",
            "creasingly important procedure in problem solving. [ 28,20,24] introduced the “self-reflection”\n",
            "mechanism, in which LMs provide feedback to their generation candidates. [ 4] improves LMs code\n",
            "generation accuracy by injecting feedback messages generated by the LM itself based on its code\n",
            "execution results. Similarly, [ 17] also introduces “critic” or review steps over the actions and states,\n",
            "deciding the next action to take in solving computer operation tasks. Another recent work very\n",
            "relevant to ours is “self-eval guided decoding” [ 39]. Similar to our method, self-eval decoding\n",
            "also follows a tree-search procedure with leaves sampled from stochastic beam search decoding,\n",
            "which are then evaluated by LLM itself with carefully prepared self-eval prompts. Their approach\n",
            "however, uses the PAL formulation [ 8] which represents thoughts as codes, which makes it difficult\n",
            "to tackle challenging tasks like creative writing which we consider in this paper. Our Tree-of-Thought\n",
            "formulation is thus more versatile and handles challenging tasks on which GPT-4 only achieves very\n",
            "low accuracy with standard prompts.\n",
            "Program-guided LLM generation. Our proposal is also related to recent advancements that organize\n",
            "LM’s behavior with systematic procedures [ 14,44,6,43] or symbolic program guidance. For example,\n",
            "Schlag et al. [27] embeds LMs in an algorithmic search procedure to help solve problems like question\n",
            "answering step-by-step, in which the search trees are expanded by relevant paragraphs that might\n",
            "provide answers. This approach however differs from ours in that trees are expanded by sampling\n",
            "external paragraphs instead of the LM’s own thoughts, and there is no reflection or voting steps.\n",
            "Another approach, LLM+P [ 18], goes one step further and delegates the actual planning process to a\n",
            "classical planner.\n",
            "Classical search methods. Last but not least, our approach can be treated as a modern rendition\n",
            "of classical search methods for problem solving. For example it can be considered as a heuristic\n",
            "search algorithm like A* [ 10], in which the heuristic at each search node is provided by the LM’s self-\n",
            "assessment. From this perspective, our method is also related to NeuroLogic A*esque decoding [ 19],\n",
            "which is inspired by A* search but introduces look-ahead heuristics that are efficient for LMs to\n",
            "improve the beam-search or top-k sampling decoding. This method however is constrained to\n",
            "sentence generation tasks, whereas our framework are designed for complex, multi-step problem\n",
            "solving guarded by value feedback.\n",
            "6 Discussion\n",
            "Limitations and future directions. Deliberate search such as ToT might not be necessary for many\n",
            "existing tasks that GPT-4 already excels at (see Appendix B.1), and as an initial step this work only\n",
            "explores three relatively simple tasks that challenges GPT-4 (see Appendix B.2 for some GPT-3.5\n",
            "experiment results) and calls of better search and planning abilities incorporated with LMs. However,\n",
            "as we begin to deploy LMs for more real-world decision making applications (e.g. coding, data\n",
            "analysis, robotics, etc.), more complex tasks could emerge and present new opportunities to study\n",
            "these research questions. Also, search methods like ToT requires more resources (e.g. GPT-4 API\n",
            "cost) than sampling methods in order to improve task performances, but the modular flexibility of\n",
            "ToT allows users to customize such performance-cost tradeoffs, and ongoing open-source efforts [ 32]\n",
            "should readily reduce such costs in the near future. More details about cost and efficiency are in\n",
            "Appendix B.3. Lastly, this work focuses on using an off-the-shelf LM, and fine-tuning LMs using\n",
            "a ToT-style high-level counterfactual decision making (e.g. deliberating over potential choices for\n",
            "the next paragraph, instead of predicting the next token) might present opportunities to enhance the\n",
            "problem-solving capabilities of LMs.\n",
            "Conclusion. The associative “System 1” of LMs can be beneficially augmented by a “System 2”\n",
            "based on searching a tree of possible paths to the solution to a problem. The Tree of Thoughts\n",
            "framework provides a way to translate classical insights about problem-solving into actionable\n",
            "methods for contemporary LMs. At the same time, LMs address a weakness of these classical\n",
            "methods, providing a way to solve complex problems that are not easily formalized, such as creative\n",
            "Broader Impact\n",
            "ToT is a framework that empowers LMs to more autonomously and intelligently make decisions\n",
            "and solve problems. While current tasks are limited to reasoning and search problems, future\n",
            "applications involving interaction with external environments or humans could bring potential danger,\n",
            "e.g. facilitating harmful uses of LMs. On the other hand, ToT also improves the interpretability\n",
            "of model decisions and the opportunity for human alignment, as the resulting representations are\n",
            "readable, high-level language reasoning instead of implicit, low-level token values.\n",
            "Acknowledgements\n",
            "SY and KN acknowledge support from an Oracle Collaborative Research award and the National\n",
            "Science Foundation under Grant No. 2239363. Any opinions, findings, conclusions, or recommenda-\n",
            "tions expressed in this material are those of the author(s) and do not necessarily reflect the views of\n",
            "the National Science Foundation. SY is also supported by the Harold W. Dodds Fellowship from\n",
            "Princeton.\n",
            "References\n",
            "[1]T. Brown, B. Mann, N. Ryder, M. Subbiah, J. D. Kaplan, P. Dhariwal, A. Neelakantan, P. Shyam,\n",
            "G. Sastry, A. Askell, et al. Language models are few-shot learners. Advances in neural\n",
            "information processing systems , 33:1877–1901, 2020.\n",
            "[2]C. Browne, E. J. Powley, D. Whitehouse, S. M. M. Lucas, P. I. Cowling, P. Rohlfshagen,\n",
            "S. Tavener, D. P. Liebana, S. Samothrakis, and S. Colton. A survey of monte carlo tree search\n",
            "methods. IEEE Transactions on Computational Intelligence and AI in Games , 4:1–43, 2012.\n",
            "[3]M. Campbell, A. J. Hoane Jr, and F.-h. Hsu. Deep blue. Artificial intelligence , 134(1-2):57–83,\n",
            "2002.\n",
            "[4]X. Chen, M. Lin, N. Sch ¨arli, and D. Zhou. Teaching large language models to self-debug, 2023.\n",
            "[5]A. Chowdhery, S. Narang, J. Devlin, M. Bosma, G. Mishra, A. Roberts, P. Barham, H. W.\n",
            "Chung, C. Sutton, S. Gehrmann, et al. Palm: Scaling language modeling with pathways. arXiv\n",
            "preprint arXiv:2204.02311 , 2022.\n",
            "[6]A. Creswell and M. Shanahan. Faithful reasoning using large language models. arXiv preprint\n",
            "arXiv:2208.14271 , 2022.\n",
            "[7]N. D. Daw, Y . Niv, and P. Dayan. Uncertainty-based competition between prefrontal and\n",
            "dorsolateral striatal systems for behavioral control. Nature neuroscience , 8(12):1704–1711,\n",
            "2005.\n",
            "[8]L. Gao, A. Madaan, S. Zhou, U. Alon, P. Liu, Y . Yang, J. Callan, and G. Neubig. Pal: Program-\n",
            "aided language models, 2023.\n",
            "[9]S. Hao, Y . Gu, H. Ma, J. J. Hong, Z. Wang, D. Z. Wang, and Z. Hu. Reasoning with language\n",
            "model is planning with world model. arXiv preprint arXiv:2305.14992 , 2023.\n",
            "[10] P. E. Hart, N. J. Nilsson, and B. Raphael. A formal basis for the heuristic determination of\n",
            "minimum cost paths. IEEE Transactions on Systems Science and Cybernetics , 4(2):100–107,\n",
            "1968. doi: 10.1109/TSSC.1968.300136.\n",
            "[11] P. E. Hart, N. J. Nilsson, and B. Raphael. A formal basis for the heuristic determination of\n",
            "minimum cost paths. IEEE transactions on Systems Science and Cybernetics , 4(2):100–107,\n",
            "1968.\n",
            "[12] W. Huang, P. Abbeel, D. Pathak, and I. Mordatch. Language models as zero-shot planners:\n",
            "Extracting actionable knowledge for embodied agents, 2022.\n",
            "[13] W. Huang, F. Xia, T. Xiao, H. Chan, J. Liang, P. Florence, A. Zeng, J. Tompson, I. Mordatch,\n",
            "Y . Chebotar, et al. Inner monologue: Embodied reasoning through planning with language\n",
            "models. arXiv preprint arXiv:2207.05608[14] J. Jung, L. Qin, S. Welleck, F. Brahman, C. Bhagavatula, R. L. Bras, and Y . Choi. Maieu-\n",
            "tic prompting: Logically consistent reasoning with recursive explanations. arXiv preprint\n",
            "arXiv:2205.11822 , 2022.\n",
            "[15] D. Kahneman. Thinking, fast and slow . Macmillan, 2011.\n",
            "[16] D. Kahneman, S. Frederick, et al. Representativeness revisited: Attribute substitution in intuitive\n",
            "judgment. Heuristics and biases: The psychology of intuitive judgment , 49(49-81):74, 2002.\n",
            "[17] G. Kim, P. Baldi, and S. McAleer. Language models can solve computer tasks, 2023.\n",
            "[18] B. Liu, Y . Jiang, X. Zhang, Q. Liu, S. Zhang, J. Biswas, and P. Stone. Llm+p: Empowering\n",
            "large language models with optimal planning proficiency, 2023.\n",
            "[19] X. Lu, S. Welleck, P. West, L. Jiang, J. Kasai, D. Khashabi, R. L. Bras, L. Qin, Y . Yu,\n",
            "R. Zellers, N. A. Smith, and Y . Choi. Neurologic a*esque decoding: Constrained text generation\n",
            "with lookahead heuristics. In North American Chapter of the Association for Computational\n",
            "Linguistics , 2021.\n",
            "[20] A. Madaan, N. Tandon, P. Gupta, S. Hallinan, L. Gao, S. Wiegreffe, U. Alon, N. Dziri,\n",
            "S. Prabhumoye, Y . Yang, S. Welleck, B. P. Majumder, S. Gupta, A. Yazdanbakhsh, and P. Clark.\n",
            "Self-refine: Iterative refinement with self-feedback, 2023.\n",
            "[21] A. Newell, J. C. Shaw, and H. A. Simon. Report on a general problem solving program. In IFIP\n",
            "congress , volume 256, page 64. Pittsburgh, PA, 1959.\n",
            "[22] A. Newell, H. A. Simon, et al. Human problem solving . Prentice-Hall, 1972.\n",
            "[23] OpenAI. Gpt-4 technical report. ArXiv , abs/2303.08774, 2023.\n",
            "[24] D. Paul, M. Ismayilzada, M. Peyrard, B. Borges, A. Bosselut, R. West, and B. Faltings. Refiner:\n",
            "Reasoning feedback on intermediate representations, 2023.\n",
            "[25] A. Radford, K. Narasimhan, T. Salimans, I. Sutskever, et al. Improving language understanding\n",
            "by generative pre-training. OpenAI blog , 2018.\n",
            "[26] A. Radford, J. Wu, R. Child, D. Luan, D. Amodei, I. Sutskever, et al. Language models are\n",
            "unsupervised multitask learners. OpenAI blog , 1(8):9, 2019.\n",
            "[27] I. Schlag, S. Sukhbaatar, A. Celikyilmaz, W. tau Yih, J. Weston, J. Schmidhuber, and X. Li.\n",
            "Large language model programs, 2023.\n",
            "[28] N. Shinn, B. Labash, and A. Gopinath. Reflexion: an autonomous agent with dynamic memory\n",
            "and self-reflection, 2023.\n",
            "[29] D. Silver, J. Schrittwieser, K. Simonyan, I. Antonoglou, A. Huang, A. Guez, T. Hubert, L. Baker,\n",
            "M. Lai, A. Bolton, et al. Mastering the game of go without human knowledge. nature , 550\n",
            "(7676):354–359, 2017.\n",
            "[30] S. A. Sloman. The empirical case for two systems of reasoning. Psychological bulletin , 119(1):\n",
            "3, 1996.\n",
            "[31] K. E. Stanovich. Who is rational? Studies of individual differences in reasoning . Psychology\n",
            "Press, 1999.\n",
            "[32] H. Touvron, T. Lavril, G. Izacard, X. Martinet, M.-A. Lachaux, T. Lacroix, B. Rozi `ere, N. Goyal,\n",
            "E. Hambro, F. Azhar, et al. Llama: Open and efficient foundation language models. arXiv\n",
            "preprint arXiv:2302.13971 , 2023.\n",
            "[33] S. Verma, J. Fu, S. Yang, and S. Levine. Chai: A chatbot ai for task-oriented dialogue with\n",
            "offline reinforcement learning. In Proceedings of the 2022 Conference of the North American\n",
            "Chapter of the Association for Computational Linguistics: Human Language Technologies ,\n",
            "[34] E. Wallace, N. Tomlin, A. Xu, K. Yang, E. Pathak, M. Ginsberg, and D. Klein. Automated\n",
            "crossword solving. arXiv preprint arXiv:2205.09665 , 2022.\n",
            "[35] L. Wang, W. Xu, Y . Lan, Z. Hu, Y . Lan, R. K.-W. Lee, and E.-P. Lim. Plan-and-solve prompting:\n",
            "Improving zero-shot chain-of-thought reasoning by large language models, 2023.\n",
            "[36] X. Wang, J. Wei, D. Schuurmans, Q. Le, E. Chi, and D. Zhou. Self-consistency improves chain\n",
            "of thought reasoning in language models. arXiv preprint arXiv:2203.11171 , 2022.\n",
            "[37] Z. Wang, S. Cai, A. Liu, X. Ma, and Y . Liang. Describe, explain, plan and select: Interactive\n",
            "planning with large language models enables open-world multi-task agents, 2023.\n",
            "[38] J. Wei, X. Wang, D. Schuurmans, M. Bosma, E. Chi, Q. Le, and D. Zhou. Chain of thought\n",
            "prompting elicits reasoning in large language models. arXiv preprint arXiv:2201.11903 , 2022.\n",
            "[39] Y . Xie, K. Kawaguchi, Y . Zhao, X. Zhao, M.-Y . Kan, J. He, and Q. Xie. Decomposition\n",
            "enhances reasoning via self-evaluation guided decoding, 2023.\n",
            "[40] S. Yang, O. Nachum, Y . Du, J. Wei, P. Abbeel, and D. Schuurmans. Foundation models for\n",
            "decision making: Problems, methods, and opportunities, 2023.\n",
            "[41] S. Yao, J. Zhao, D. Yu, N. Du, I. Shafran, K. Narasimhan, and Y . Cao. ReAct: Synergizing\n",
            "reasoning and acting in language models. arXiv preprint arXiv:2210.03629 , 2022.\n",
            "[42] S. Zhang, Z. Chen, Y . Shen, M. Ding, J. B. Tenenbaum, and C. Gan. Planning with large\n",
            "language models for code generation. In The Eleventh International Conference on Learning\n",
            "Representations , 2023. URL https://openreview.net/forum?id=Lr8cOOtYbfL .\n",
            "[43] D. Zhou, N. Sch ¨arli, L. Hou, J. Wei, N. Scales, X. Wang, D. Schuurmans, C. Cui, O. Bousquet,\n",
            "Q. Le, et al. Least-to-most prompting enables complex reasoning in large language models.\n",
            "arXiv preprint arXiv:2205.10625 , 2022.\n",
            "[44] X. Zhu, J. Wang, L. Zhang, Y . Zhang, R. Gan, J. Zhang, and Y . Yang. Solving math word\n",
            "problem via cooperative reasoning induced language models. arXiv preprint arXiv:2210.16257 ,\n",
            "A Code, Prompts, Trajectories\n",
            "All code is available at https://github.com/princeton-nlp/tree-of-thought-llm .\n",
            "All prompts are available at https://github.com/princeton-nlp/tree-of-thought-llm/\n",
            "tree/master/src/tot/prompts .\n",
            "Trajectories are available at https://github.com/princeton-nlp/tree-of-thought-llm/\n",
            "tree/master/logs .\n",
            "B Additional Experiment Results\n",
            "Given the motivation of exploring and extending the capability frontier of language models, our\n",
            "experiments in the main paper have focused on a setup with the state-of-the-art language model\n",
            "(GPT-4), and three hard tasks invented to challenge it. Here, we report additional experiments with\n",
            "weaker LLM or easier tasks, and discuss cost and efficiency.\n",
            "GSM8K StrategyQA\n",
            "IO 51 73\n",
            "CoT 86 82\n",
            "ToT 90 83\n",
            "Table 4: New tasks with\n",
            "zero-shot ToT and GPT-4.GPT-4 GPT-3.5\n",
            "IO 7.3% 6%\n",
            "CoT 4.0% 3%\n",
            "ToT 74% 19%\n",
            "Table 5: Game of 24 with\n",
            "GPT-4 vs GPT-3.5.GPT-4 GPT-3.5\n",
            "IO 6.19 4.47\n",
            "CoT 6.93 5.16\n",
            "ToT 7.56 6.62\n",
            "Table 6: Creative Writing with\n",
            "GPT-4 vs. GPT-3.5.\n",
            "B.1 Extension to new tasks (GSM8k, StrategyQA) with zero-shot ToT\n",
            "While more common NLP tasks might be too easy for GPT-4 and do not require ToT (which is why\n",
            "we considered harder new tasks), we believe applying ToT to new tasks could be straightforward.\n",
            "For example, we implemented a simple and generic zero-shot ToT-BFS similar to creative writing\n",
            "(sample 5 problem solving strategies then vote for the best one; then sample 5 solutions based on the\n",
            "best strategy then vote for the best one) for GSM8K and StrategyQA with few extra lines of code:\n",
            "# define the answer format of new tasks\n",
            "gsm8k_format = ‘\"the answer is n\" where n is a number’\n",
            "strategyqa_format = ‘either \"the answer is yes\" or \"the answer is no\"’\n",
            "# define zero-shot io prompting\n",
            "standard_prompt = ‘Answer the following question with {format}: {input}’\n",
            "# define thought format for zero-shot cot and zero-shot tot\n",
            "cot_prompt = ‘‘‘Answer the following question: {input}\n",
            "Make a strategy then write. Your output should be of the following format:\n",
            "Strategy:\n",
            "Your strategy about how to answer the question.\n",
            "Answer:\n",
            "Your answer to the question. It should end with {format}.\n",
            "’’’\n",
            "# define zero-shot voting used for zero-shot tot\n",
            "vote_prompt = ‘‘‘Given an instruction and several choices,\n",
            "decide which choice is most promising.\n",
            "Analyze each choice in detail, then conclude in the last line\n",
            "\"The best choice is {s}\", where s the integer id of the choice.\n",
            "’’’We evaluated on a subset of 100 random GSM8K test and StrategyQA dev questions. As shown\n",
            "in Table 4 and as expected, ToT improves over CoT on both tasks (but only slightly, given GPT-4\n",
            "+ CoT is already very good on such tasks, and StrategyQA’s bottleneck is external knowledge, not\n",
            "reasoning). Considering computational costs, it is more suitable to try smaller LLMs + ToT for\n",
            "traditional NLP tasks, or GPT-4 + ToT for hard tasks that challenge GPT-4 + CoT’s reasoning.\n",
            "B.2 Extension to new LMs (GPT-3.5)\n",
            "To understand how ToT works with other LLMs, we also ran GPT-3.5-turbo for Creative Writing\n",
            "(Table 6) and Game of 24 (Table 5). On both tasks, “ToT >CoT>IO” remains true for GPT-3.5. On\n",
            "Creative Writing, we find GPT-3.5+ToT outperform GPT-4+IO, and similar to GPT-4+CoT, which\n",
            "suggests ToT could also work well on weaker language models.\n",
            "On Game of 24 (we changed 1-shot proposal prompt to 3-shot to make it work), GPT-3.5+ToT’s\n",
            "19% is far worse than GPT-4+ToT’s 74%. To further understand the importance of generation\n",
            "vs. evaluation, we ran GPT-4 generation + GPT-3.5 evaluation (64%) and GPT-3.5 generation +\n",
            "GPT-4 evaluation (31%). This suggests the game’s bottleneck is thought generation, and different\n",
            "generation/evaluation language models might attain decent results while reducing costs.\n",
            "B.3 Cost and efficiency\n",
            "Running ToT requires significantly more computations than IO or CoT prompting. For example, in\n",
            "Game of 24 (Table 7 below), solving a problem with ToT requires 5.5k completion tokens, close to\n",
            "100 CoT trials (6.7k tokens). But the performance of ToT is better than best of 100 independent CoT\n",
            "trials.\n",
            "Game of 24 Generate/Prompt tokens Cost per case Success\n",
            "IO (best of 100) 1.8k / 1.0k $0.13 33%\n",
            "CoT (best of 100) 6.7k / 2.2k $0.47 49%\n",
            "ToT 5.5k / 1.4k $0.74 74%\n",
            "Table 7: Cost analysis on Game of 24.\n",
            "On Creative Writing (Table 8 below), we found ToT takes around 5x completion tokens and money\n",
            "cost, which is intuitive as b= 5and most tokens are generated passages.\n",
            "Creative Writing Generate/Prompt tokens Cost per case\n",
            "IO 0.9k / 0.4k $0.06\n",
            "CoT 0.9k / 0.4k $0.07\n",
            "ToT 4k / 2.9k $0.32\n",
            "Table 8: Cost analysis on Game of 24.\n",
            "So completing Game of 24 and Creative Writing’s main ToT experiments cost around 0.74×100 +\n",
            "0.32×100 = 106 dollars. Crosswords’ DFS experiments should be also within 100dollars. In\n",
            "general, cost and efficiency of ToT highly depend on the prompts and search algorithms used, and\n",
            "could require 5-100 times more generated tokens than CoT. Some actionable insights:\n",
            "•We recommend using ToT on tasks requiring deliberate reasoning, on which CoT struggles.\n",
            "•Flexibility of ToT allows some performance-cost tradeoff, e.g., change beam size or vote\n",
            "number in BFS, few-shot vs. zero-shot prompting, GPT-3.5 vs. GPT-4, etc. One could\n",
            "configure the setup based on some resource constraints or performance goal.\n",
            "•There is much space for improving efficiency, e.g., BFS could early stop when solution is\n",
            "found, or trim down beam size to when some thoughts are ”impossible”.\n",
            "•We believe that more computation is indeed required in order for the model to achieve\n",
            "stronger intelligence, and this should not become a blocking issue as in the long run, (open-\n",
            "source) LMs will become much cheaper and more efficient. It is also a great direction how\n",
            "\n"
          ]
        }
      ],
      "source": [
        "parts = []\n",
        "\n",
        "def visitor_body(text, cm, tm, fontDict, fontSize):\n",
        "    y = tm[5]\n",
        "    if y > 50 and y < 720:\n",
        "        parts.append(text)\n",
        "\n",
        "for page in reader.pages:\n",
        "    # page = reader.pages[3]\n",
        "    page.extract_text(visitor_text=visitor_body)\n",
        "\n",
        "text_body = \"\".join(parts)\n",
        "\n",
        "print(text_body)"
      ]
    },
    {
      "cell_type": "code",
      "execution_count": 9,
      "metadata": {
        "colab": {
          "base_uri": "https://localhost:8080/"
        },
        "id": "GevqPcyhlZPn",
        "outputId": "2688240f-2fa1-4fff-c763-5535f45ab0a1"
      },
      "outputs": [
        {
          "data": {
            "text/plain": [
              "19052"
            ]
          },
          "execution_count": 9,
          "metadata": {},
          "output_type": "execute_result"
        }
      ],
      "source": [
        "# count the tokens\n",
        "def num_tokens_from_string(string: str, encoding_name: str) -> int:\n",
        "    \"\"\"Returns the number of tokens in a text string.\"\"\"\n",
        "    # encoding = tiktoken.get_encoding(encoding_name)\n",
        "    encoding = tiktoken.encoding_for_model(\"gpt-3.5-turbo\")\n",
        "    num_tokens = len(encoding.encode(string))\n",
        "    return num_tokens\n",
        "\n",
        "num_tokens_from_string(text_body, \"gpt-3.5-turbo\")"
      ]
    },
    {
      "cell_type": "code",
      "execution_count": 10,
      "metadata": {
        "id": "MYT8d97sRGUU"
      },
      "outputs": [],
      "source": [
        "import re\n",
        "\n",
        "def remove_citations(text):\n",
        "    split_text = re.split(r'(\\[\\d+\\].*?(?=\\[\\d+\\]|$))', text, flags=re.DOTALL)\n",
        "    no_citations = [chunk for i, chunk in enumerate(split_text) if i % 2 == 0]\n",
        "    citations = [chunk for i, chunk in enumerate(split_text) if i % 2 != 0]\n",
        "    return ''.join(no_citations), ''.join(citations)\n",
        "\n",
        "def remove_after_references(text: str) -> str:\n",
        "    \"\"\"Remove everything after a line containing 'References'.\"\"\"\n",
        "    lines = text.split('\\n')\n",
        "    for i, line in enumerate(lines):\n",
        "        if 'References' in line:\n",
        "            return '\\n'.join(lines[:i+1])\n",
        "    return text\n"
      ]
    },
    {
      "cell_type": "code",
      "execution_count": 11,
      "metadata": {
        "id": "Eu-bpGxAmTJ4"
      },
      "outputs": [],
      "source": [
        "text_body = remove_after_references(text_body)\n"
      ]
    },
    {
      "cell_type": "code",
      "execution_count": 12,
      "metadata": {
        "colab": {
          "base_uri": "https://localhost:8080/"
        },
        "id": "evKALEHhmbdo",
        "outputId": "9d26c200-20c4-4dda-e584-a5671a18d46a"
      },
      "outputs": [
        {
          "data": {
            "text/plain": [
              "14796"
            ]
          },
          "execution_count": 12,
          "metadata": {},
          "output_type": "execute_result"
        }
      ],
      "source": [
        "num_tokens_from_string(text_body, \"gpt-3.5-turbo\")"
      ]
    },
    {
      "cell_type": "code",
      "execution_count": 13,
      "metadata": {
        "colab": {
          "base_uri": "https://localhost:8080/"
        },
        "id": "hGM7FFmjRZnu",
        "outputId": "4d17809f-3675-4cf7-afeb-bdd5ef9707e3"
      },
      "outputs": [
        {
          "data": {
            "text/plain": [
              "str"
            ]
          },
          "execution_count": 13,
          "metadata": {},
          "output_type": "execute_result"
        }
      ],
      "source": [
        "type(text_body)"
      ]
    },
    {
      "cell_type": "code",
      "execution_count": 14,
      "metadata": {
        "id": "Mz0TMHCAW7mk"
      },
      "outputs": [],
      "source": [
        "import textwrap\n",
        "import os\n",
        "\n",
        "def wrap_text(text: str, width: int = 120) -> str:\n",
        "    \"\"\"Wrap text to a specified width.\"\"\"\n",
        "    return '\\n'.join(textwrap.wrap(text, width))\n",
        "\n",
        "def write_string_to_file(filename: str, text: str) -> None:\n",
        "    \"\"\"Write a string to a file.\"\"\"\n",
        "    with open(filename, 'w') as f:\n",
        "        f.write(text)\n",
        "\n",
        "def extract_filename(path_string):\n",
        "    \"\"\"Extract filename without extension from a path string.\"\"\"\n",
        "    base_name = os.path.basename(path_string)  # Get the filename with extension\n",
        "    file_name_without_ext = os.path.splitext(base_name)[0]  # Remove the extension\n",
        "    return file_name_without_ext\n"
      ]
    },
    {
      "cell_type": "markdown",
      "metadata": {
        "id": "WET__9nVK4ER"
      },
      "source": [
        "## LangChain"
      ]
    },
    {
      "cell_type": "code",
      "execution_count": 15,
      "metadata": {
        "id": "hd8oAWwbPCe-"
      },
      "outputs": [],
      "source": [
        "from langchain.prompts import (\n",
        "    ChatPromptTemplate,\n",
        "    PromptTemplate,\n",
        "    SystemMessagePromptTemplate,\n",
        "    AIMessagePromptTemplate,\n",
        "    HumanMessagePromptTemplate,\n",
        ")\n",
        "from langchain.schema import (\n",
        "    AIMessage,\n",
        "    HumanMessage,\n",
        "    SystemMessage\n",
        ")\n",
        "\n",
        "from langchain_openai import ChatOpenAI\n",
        "\n",
        "from langchain.chains import LLMChain\n"
      ]
    },
    {
      "cell_type": "markdown",
      "metadata": {
        "id": "E9yfv1ucRUMl"
      },
      "source": [
        "#### System prompt"
      ]
    },
    {
      "cell_type": "code",
      "execution_count": 16,
      "metadata": {
        "id": "2ADvKgwEQvmw"
      },
      "outputs": [],
      "source": [
        "context_template=\"You are a helpful AI Researcher that specializes in analysing ML, AI and LLM papers. Please use all your expertise to approach this task. Output your content in markdown format and include titles where relevant.\"\n",
        "\n",
        "system_message_prompt = SystemMessagePromptTemplate.from_template(context_template)\n"
      ]
    },
    {
      "cell_type": "markdown",
      "metadata": {
        "id": "f1IOIqNqT04Z"
      },
      "source": [
        "#### Human Prompt\n"
      ]
    },
    {
      "cell_type": "code",
      "execution_count": 17,
      "metadata": {
        "id": "bvIEpkvHeBm2"
      },
      "outputs": [],
      "source": [
        "human_template=\"Please summarize this paper focusing the key important takeaways for each section. Expand the summary on methods so they can be clearly understood. \\n\\n PAPER: \\n\\n{paper_content}\"\n",
        "\n",
        "human_message_prompt = HumanMessagePromptTemplate(\n",
        "        prompt=PromptTemplate(\n",
        "            template=human_template,\n",
        "            input_variables=[\"paper_content\"],\n",
        "        )\n",
        "    )"
      ]
    },
    {
      "cell_type": "code",
      "execution_count": 18,
      "metadata": {
        "id": "NRZbyik8Sfob"
      },
      "outputs": [],
      "source": [
        "\n",
        "chat_prompt_template = ChatPromptTemplate.from_messages([system_message_prompt,\n",
        "                                                         human_message_prompt])\n",
        "\n",
        "chat = ChatOpenAI(model_name=\"gpt-3.5-turbo-16k\",\n",
        "                  temperature=0.2)\n"
      ]
    },
    {
      "cell_type": "code",
      "execution_count": 19,
      "metadata": {
        "id": "bjfAKyu4Sfrh"
      },
      "outputs": [
        {
          "name": "stderr",
          "output_type": "stream",
          "text": [
            "/Users/krishnamrith12/opt/anaconda3/envs/hfHoster/lib/python3.11/site-packages/langchain_core/_api/deprecation.py:119: LangChainDeprecationWarning: The class `LLMChain` was deprecated in LangChain 0.1.17 and will be removed in 0.3.0. Use RunnableSequence, e.g., `prompt | llm` instead.\n",
            "  warn_deprecated(\n"
          ]
        }
      ],
      "source": [
        "summary_chain = LLMChain(llm=chat, prompt=chat_prompt_template)\n"
      ]
    },
    {
      "cell_type": "code",
      "execution_count": 20,
      "metadata": {},
      "outputs": [],
      "source": [
        "#!export OPENAI_API_KEY=\"sk-proj-4SIe61YhBcsqajeNeRU8T3BlbkFJdhBECLtFb0rdn6vd8itI\""
      ]
    },
    {
      "cell_type": "code",
      "execution_count": 21,
      "metadata": {},
      "outputs": [
        {
          "name": "stdout",
          "output_type": "stream",
          "text": [
            "sk-proj-4SIe61YhBcsqajeNeRU8T3BlbkFJdhBECLtFb0rdn6vd8itI\n"
          ]
        }
      ],
      "source": [
        "!echo $OPENAI_API_KEY"
      ]
    },
    {
      "cell_type": "markdown",
      "metadata": {
        "id": "WZl2G9pvXerW"
      },
      "source": [
        "## Full output"
      ]
    },
    {
      "cell_type": "code",
      "execution_count": 22,
      "metadata": {
        "colab": {
          "base_uri": "https://localhost:8080/"
        },
        "id": "KXQjJ4W0Sf30",
        "outputId": "e24fd5e4-cd4d-40ba-e168-bb71f8d5c53a"
      },
      "outputs": [
        {
          "name": "stderr",
          "output_type": "stream",
          "text": [
            "/Users/krishnamrith12/opt/anaconda3/envs/hfHoster/lib/python3.11/site-packages/langchain_core/_api/deprecation.py:119: LangChainDeprecationWarning: The method `Chain.run` was deprecated in langchain 0.1.0 and will be removed in 0.3.0. Use invoke instead.\n",
            "  warn_deprecated(\n"
          ]
        },
        {
          "name": "stdout",
          "output_type": "stream",
          "text": [
            "Total Tokens: 15322\n",
            "Prompt Tokens: 14880\n",
            "Completion Tokens: 442\n",
            "Total Cost (USD): $0.046408000000000005\n",
            "Calc Total Cost (USD): $0.046408000000000005\n",
            "CPU times: user 76.5 ms, sys: 38.7 ms, total: 115 ms\n",
            "Wall time: 11.2 s\n"
          ]
        }
      ],
      "source": [
        "%%time\n",
        "from langchain.callbacks import get_openai_callback\n",
        "\n",
        "with get_openai_callback() as cb:\n",
        "    output = summary_chain.run(text_body)\n",
        "\n",
        "    print(f\"Total Tokens: {cb.total_tokens}\")\n",
        "    print(f\"Prompt Tokens: {cb.prompt_tokens}\")\n",
        "    print(f\"Completion Tokens: {cb.completion_tokens}\")\n",
        "    print(f\"Total Cost (USD): ${cb.total_cost}\")\n",
        "    print(f\"Calc Total Cost (USD): ${(cb.prompt_tokens/1000)*0.003 + (cb.completion_tokens/1000)*0.004}\")"
      ]
    },
    {
      "cell_type": "code",
      "execution_count": 23,
      "metadata": {
        "colab": {
          "base_uri": "https://localhost:8080/"
        },
        "id": "mzqHOHalSf6G",
        "outputId": "ef90a513-16e5-4564-87e1-d744b3f89369"
      },
      "outputs": [
        {
          "name": "stdout",
          "output_type": "stream",
          "text": [
            "# Tree of Thoughts: Deliberate Problem Solving with Large Language Models  ## Abstract Language models (LMs) are\n",
            "powerful tools for problem-solving tasks, but they are limited by their token-level, left-to-right decision-making\n",
            "process. This paper introduces a new framework called \"Tree of Thoughts\" (ToT) that allows LMs to perform deliberate\n",
            "decision-making by considering multiple reasoning paths and self-evaluating choices. ToT enables exploration over\n",
            "coherent units of text (\"thoughts\") that serve as intermediate steps toward problem-solving. The experiments show that\n",
            "ToT significantly enhances LM's problem-solving abilities on tasks requiring planning or search.  ## Introduction This\n",
            "section discusses the limitations of current language models in problem-solving tasks and introduces the concept of\n",
            "\"System 1\" and \"System 2\" decision-making processes. It also highlights the need for a more deliberate planning process\n",
            "in language models.  ## Background This section provides an overview of existing methods that use large language models\n",
            "for problem-solving, such as input-output prompting and chain-of-thought prompting.  ## Tree of Thoughts: Deliberate\n",
            "Problem Solving with LM This section introduces the Tree of Thoughts (ToT) framework for problem-solving with language\n",
            "models. It explains the thought decomposition, thought generation, state evaluation, and search algorithms used in ToT.\n",
            "## Experiments This section presents the experiments conducted to evaluate the performance of ToT on three novel tasks:\n",
            "Game of 24, Creative Writing, and Mini Crosswords. It compares the results of ToT with other baselines and analyzes the\n",
            "impact of different factors on performance.  ## Related Work This section discusses related work in the areas of\n",
            "planning and decision-making, self-reflection, program-guided LM generation, and classical search methods.  ##\n",
            "Discussion This section discusses the limitations of ToT and suggests future directions for research.  ## Conclusion The\n",
            "paper concludes by summarizing the key contributions of ToT and its potential impact on problem-solving with language\n",
            "models.  ## Broader Impact This section discusses the potential impact of ToT on various applications and highlights the\n",
            "importance of responsible use of language models.  ## Acknowledgements This section acknowledges the support and funding\n",
            "received for the research.\n"
          ]
        }
      ],
      "source": [
        "print(wrap_text(output))"
      ]
    },
    {
      "cell_type": "code",
      "execution_count": 24,
      "metadata": {
        "id": "5pQUakRDSf-C"
      },
      "outputs": [],
      "source": [
        "write_string_to_file(f'{extract_filename(PAPER_PATH)}-summary.txt', output)"
      ]
    },
    {
      "cell_type": "code",
      "execution_count": 25,
      "metadata": {
        "colab": {
          "base_uri": "https://localhost:8080/",
          "height": 35
        },
        "id": "50W7Q0GRSgBW",
        "outputId": "fc38031e-2873-4d30-8d74-24484826c5fb"
      },
      "outputs": [
        {
          "data": {
            "text/plain": [
              "'papers/2305.10601.pdf'"
            ]
          },
          "execution_count": 25,
          "metadata": {},
          "output_type": "execute_result"
        }
      ],
      "source": [
        "PAPER_PATH"
      ]
    }
  ],
  "metadata": {
    "colab": {
      "provenance": []
    },
    "kernelspec": {
      "display_name": "Python 3",
      "name": "python3"
    },
    "language_info": {
      "codemirror_mode": {
        "name": "ipython",
        "version": 3
      },
      "file_extension": ".py",
      "mimetype": "text/x-python",
      "name": "python",
      "nbconvert_exporter": "python",
      "pygments_lexer": "ipython3",
      "version": "3.11.9"
    }
  },
  "nbformat": 4,
  "nbformat_minor": 0
}
